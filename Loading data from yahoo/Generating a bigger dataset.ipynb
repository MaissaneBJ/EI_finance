{
 "cells": [
  {
   "cell_type": "markdown",
   "metadata": {},
   "source": [
    "Importing necessary modules"
   ]
  },
  {
   "cell_type": "code",
   "execution_count": null,
   "metadata": {},
   "outputs": [],
   "source": [
    "import yfinance as yf\n",
    "import pandas as pd\n",
    "import numpy as np"
   ]
  },
  {
   "cell_type": "markdown",
   "metadata": {},
   "source": [
    "The dataset is not large enough so it's nit suitable for such a complicated task. We will download the same tickers of the original dataset but beginning from the first available date."
   ]
  },
  {
   "cell_type": "code",
   "execution_count": 2,
   "metadata": {},
   "outputs": [
    {
     "name": "stderr",
     "output_type": "stream",
     "text": [
      "[*********************100%%**********************]  1 of 1 completed\n",
      "[*********************100%%**********************]  1 of 1 completed\n",
      "[*********************100%%**********************]  1 of 1 completed\n",
      "[*********************100%%**********************]  1 of 1 completed\n",
      "[*********************100%%**********************]  1 of 1 completed\n",
      "[*********************100%%**********************]  1 of 1 completed\n",
      "[*********************100%%**********************]  1 of 1 completed\n",
      "[*********************100%%**********************]  1 of 1 completed\n",
      "[*********************100%%**********************]  1 of 1 completed\n",
      "[*********************100%%**********************]  1 of 1 completed\n",
      "[*********************100%%**********************]  1 of 1 completed\n",
      "[*********************100%%**********************]  1 of 1 completed\n",
      "[*********************100%%**********************]  1 of 1 completed\n",
      "[*********************100%%**********************]  1 of 1 completed\n"
     ]
    }
   ],
   "source": [
    "start_date = \"2000-08-24\" #First date where information is available\n",
    "end_date = \"2011-08-05\" #last day in the original training set\n",
    "# List of tickers to fetch data for\n",
    "tickers = ['CL=F','EURUSD=X','GC=F','HG=F','JPY=X','SI=F','XWD.TO','^DJI','^GSPC','^IXIC','^RUT','^TNX','^TYX','^VIX']\n",
    "\n",
    "# Fetch data for each ticker and store in a dictionary\n",
    "Series = {ticker:yf.download(ticker, start=start_date, end=end_date)['Close'] for ticker in tickers}\n",
    "data=pd.DataFrame(Series) #building the final dataframe"
   ]
  },
  {
   "cell_type": "code",
   "execution_count": 3,
   "metadata": {},
   "outputs": [
    {
     "data": {
      "text/html": [
       "<div>\n",
       "<style scoped>\n",
       "    .dataframe tbody tr th:only-of-type {\n",
       "        vertical-align: middle;\n",
       "    }\n",
       "\n",
       "    .dataframe tbody tr th {\n",
       "        vertical-align: top;\n",
       "    }\n",
       "\n",
       "    .dataframe thead th {\n",
       "        text-align: right;\n",
       "    }\n",
       "</style>\n",
       "<table border=\"1\" class=\"dataframe\">\n",
       "  <thead>\n",
       "    <tr style=\"text-align: right;\">\n",
       "      <th></th>\n",
       "      <th>CL=F</th>\n",
       "      <th>EURUSD=X</th>\n",
       "      <th>GC=F</th>\n",
       "      <th>HG=F</th>\n",
       "      <th>JPY=X</th>\n",
       "      <th>SI=F</th>\n",
       "      <th>XWD.TO</th>\n",
       "      <th>^DJI</th>\n",
       "      <th>^GSPC</th>\n",
       "      <th>^IXIC</th>\n",
       "      <th>^RUT</th>\n",
       "      <th>^TNX</th>\n",
       "      <th>^TYX</th>\n",
       "      <th>^VIX</th>\n",
       "    </tr>\n",
       "    <tr>\n",
       "      <th>Date</th>\n",
       "      <th></th>\n",
       "      <th></th>\n",
       "      <th></th>\n",
       "      <th></th>\n",
       "      <th></th>\n",
       "      <th></th>\n",
       "      <th></th>\n",
       "      <th></th>\n",
       "      <th></th>\n",
       "      <th></th>\n",
       "      <th></th>\n",
       "      <th></th>\n",
       "      <th></th>\n",
       "      <th></th>\n",
       "    </tr>\n",
       "  </thead>\n",
       "  <tbody>\n",
       "    <tr>\n",
       "      <th>2000-08-24</th>\n",
       "      <td>31.629999</td>\n",
       "      <td>NaN</td>\n",
       "      <td>NaN</td>\n",
       "      <td>NaN</td>\n",
       "      <td>106.989998</td>\n",
       "      <td>NaN</td>\n",
       "      <td>NaN</td>\n",
       "      <td>11182.740234</td>\n",
       "      <td>1508.310059</td>\n",
       "      <td>4053.280029</td>\n",
       "      <td>523.299988</td>\n",
       "      <td>5.716</td>\n",
       "      <td>5.659</td>\n",
       "      <td>17.040001</td>\n",
       "    </tr>\n",
       "    <tr>\n",
       "      <th>2000-08-25</th>\n",
       "      <td>32.049999</td>\n",
       "      <td>NaN</td>\n",
       "      <td>NaN</td>\n",
       "      <td>NaN</td>\n",
       "      <td>106.800003</td>\n",
       "      <td>NaN</td>\n",
       "      <td>NaN</td>\n",
       "      <td>11192.629883</td>\n",
       "      <td>1506.449951</td>\n",
       "      <td>4042.679932</td>\n",
       "      <td>525.109985</td>\n",
       "      <td>5.721</td>\n",
       "      <td>5.668</td>\n",
       "      <td>16.530001</td>\n",
       "    </tr>\n",
       "    <tr>\n",
       "      <th>2000-08-28</th>\n",
       "      <td>32.869999</td>\n",
       "      <td>NaN</td>\n",
       "      <td>NaN</td>\n",
       "      <td>NaN</td>\n",
       "      <td>106.589996</td>\n",
       "      <td>NaN</td>\n",
       "      <td>NaN</td>\n",
       "      <td>11252.839844</td>\n",
       "      <td>1514.089966</td>\n",
       "      <td>4070.590088</td>\n",
       "      <td>526.479980</td>\n",
       "      <td>5.766</td>\n",
       "      <td>5.715</td>\n",
       "      <td>16.540001</td>\n",
       "    </tr>\n",
       "    <tr>\n",
       "      <th>2000-08-29</th>\n",
       "      <td>32.720001</td>\n",
       "      <td>NaN</td>\n",
       "      <td>NaN</td>\n",
       "      <td>NaN</td>\n",
       "      <td>106.129997</td>\n",
       "      <td>NaN</td>\n",
       "      <td>NaN</td>\n",
       "      <td>11215.099609</td>\n",
       "      <td>1509.839966</td>\n",
       "      <td>4082.169922</td>\n",
       "      <td>529.630005</td>\n",
       "      <td>5.808</td>\n",
       "      <td>5.751</td>\n",
       "      <td>16.889999</td>\n",
       "    </tr>\n",
       "    <tr>\n",
       "      <th>2000-08-30</th>\n",
       "      <td>33.400002</td>\n",
       "      <td>NaN</td>\n",
       "      <td>273.899994</td>\n",
       "      <td>0.885</td>\n",
       "      <td>106.610001</td>\n",
       "      <td>4.93</td>\n",
       "      <td>NaN</td>\n",
       "      <td>11103.009766</td>\n",
       "      <td>1502.589966</td>\n",
       "      <td>4103.810059</td>\n",
       "      <td>532.330017</td>\n",
       "      <td>5.800</td>\n",
       "      <td>5.736</td>\n",
       "      <td>17.690001</td>\n",
       "    </tr>\n",
       "  </tbody>\n",
       "</table>\n",
       "</div>"
      ],
      "text/plain": [
       "                 CL=F  EURUSD=X        GC=F   HG=F       JPY=X  SI=F  XWD.TO  \\\n",
       "Date                                                                           \n",
       "2000-08-24  31.629999       NaN         NaN    NaN  106.989998   NaN     NaN   \n",
       "2000-08-25  32.049999       NaN         NaN    NaN  106.800003   NaN     NaN   \n",
       "2000-08-28  32.869999       NaN         NaN    NaN  106.589996   NaN     NaN   \n",
       "2000-08-29  32.720001       NaN         NaN    NaN  106.129997   NaN     NaN   \n",
       "2000-08-30  33.400002       NaN  273.899994  0.885  106.610001  4.93     NaN   \n",
       "\n",
       "                    ^DJI        ^GSPC        ^IXIC        ^RUT   ^TNX   ^TYX  \\\n",
       "Date                                                                           \n",
       "2000-08-24  11182.740234  1508.310059  4053.280029  523.299988  5.716  5.659   \n",
       "2000-08-25  11192.629883  1506.449951  4042.679932  525.109985  5.721  5.668   \n",
       "2000-08-28  11252.839844  1514.089966  4070.590088  526.479980  5.766  5.715   \n",
       "2000-08-29  11215.099609  1509.839966  4082.169922  529.630005  5.808  5.751   \n",
       "2000-08-30  11103.009766  1502.589966  4103.810059  532.330017  5.800  5.736   \n",
       "\n",
       "                 ^VIX  \n",
       "Date                   \n",
       "2000-08-24  17.040001  \n",
       "2000-08-25  16.530001  \n",
       "2000-08-28  16.540001  \n",
       "2000-08-29  16.889999  \n",
       "2000-08-30  17.690001  "
      ]
     },
     "execution_count": 3,
     "metadata": {},
     "output_type": "execute_result"
    }
   ],
   "source": [
    "data.head()"
   ]
  },
  {
   "cell_type": "markdown",
   "metadata": {},
   "source": [
    "We still need to calculate the target from the ^GSPC ticker."
   ]
  },
  {
   "cell_type": "code",
   "execution_count": 4,
   "metadata": {},
   "outputs": [
    {
     "data": {
      "text/plain": [
       "103"
      ]
     },
     "execution_count": 4,
     "metadata": {},
     "output_type": "execute_result"
    }
   ],
   "source": [
    "data['^GSPC'].isna().sum() # number of missing values in the GSPC column"
   ]
  },
  {
   "cell_type": "markdown",
   "metadata": {},
   "source": [
    "Since the number of missing values is not important compared to the total number of rows, we decided to drop the rows where values from GSPC are missing."
   ]
  },
  {
   "cell_type": "code",
   "execution_count": 6,
   "metadata": {},
   "outputs": [],
   "source": [
    "data.dropna(subset=['^GSPC'],inplace=True) #dropping the missing values"
   ]
  },
  {
   "cell_type": "markdown",
   "metadata": {},
   "source": [
    "Calculating the target"
   ]
  },
  {
   "cell_type": "code",
   "execution_count": 8,
   "metadata": {},
   "outputs": [],
   "source": [
    "data['^GSPC Shifted'] = data['^GSPC'].shift(-1) #Creating a shifted column that will serve as the future closing price\n",
    "data['target'] = (data['^GSPC'] < data['^GSPC Shifted']).astype(int) #computing the target (0 if the price will go up and 1 if it will go down)\n",
    "data.drop(columns=['^GSPC Shifted'],inplace=True) #dropping the unnecessary column"
   ]
  },
  {
   "cell_type": "markdown",
   "metadata": {},
   "source": [
    "Let's look at the missing values in other columns."
   ]
  },
  {
   "cell_type": "code",
   "execution_count": 9,
   "metadata": {},
   "outputs": [
    {
     "data": {
      "text/plain": [
       "CL=F          13\n",
       "EURUSD=X     843\n",
       "GC=F          20\n",
       "HG=F          19\n",
       "JPY=X         25\n",
       "SI=F          19\n",
       "XWD.TO      2319\n",
       "^DJI           0\n",
       "^GSPC          0\n",
       "^IXIC          0\n",
       "^RUT           0\n",
       "^TNX           5\n",
       "^TYX           5\n",
       "^VIX           0\n",
       "target         0\n",
       "dtype: int64"
      ]
     },
     "execution_count": 9,
     "metadata": {},
     "output_type": "execute_result"
    }
   ],
   "source": [
    "data.isna().sum()"
   ]
  },
  {
   "cell_type": "markdown",
   "metadata": {},
   "source": [
    "We need to find a method to impute these missing values. We chose to use panda's interpolate function with the method 'time' because it takes into account the time evolution."
   ]
  },
  {
   "cell_type": "code",
   "execution_count": 10,
   "metadata": {},
   "outputs": [],
   "source": [
    "#Converting the Date column to datetime to ensure the interpolate method works properly\n",
    "data.reset_index(inplace=True)\n",
    "data['Date'] = pd.to_datetime(data['Date'])\n",
    "data.set_index('Date',inplace=True)"
   ]
  },
  {
   "cell_type": "code",
   "execution_count": 11,
   "metadata": {},
   "outputs": [],
   "source": [
    "new_data=data.interpolate(method='time') #calling the interpolate method"
   ]
  },
  {
   "cell_type": "markdown",
   "metadata": {},
   "source": [
    "Let's look at the missing values in the new data set."
   ]
  },
  {
   "cell_type": "code",
   "execution_count": 12,
   "metadata": {},
   "outputs": [
    {
     "data": {
      "text/plain": [
       "CL=F           0\n",
       "EURUSD=X     819\n",
       "GC=F           4\n",
       "HG=F           4\n",
       "JPY=X          0\n",
       "SI=F           4\n",
       "XWD.TO      2308\n",
       "^DJI           0\n",
       "^GSPC          0\n",
       "^IXIC          0\n",
       "^RUT           0\n",
       "^TNX           0\n",
       "^TYX           0\n",
       "^VIX           0\n",
       "target         0\n",
       "dtype: int64"
      ]
     },
     "execution_count": 12,
     "metadata": {},
     "output_type": "execute_result"
    }
   ],
   "source": [
    "new_data.isna().sum()"
   ]
  },
  {
   "cell_type": "markdown",
   "metadata": {},
   "source": [
    "Turns out the interpolate method leaves the points where no neighboring points are available. It's clearly the case for tickers EURUSD=X and XWD.TO. We decided to drop them since imputing with another method would give us low quality data."
   ]
  },
  {
   "cell_type": "code",
   "execution_count": 67,
   "metadata": {},
   "outputs": [],
   "source": [
    "# Dropping columns where too many values are missing\n",
    "del new_data['EURUSD=X']\n",
    "del new_data['XWD.TO']"
   ]
  },
  {
   "cell_type": "code",
   "execution_count": 68,
   "metadata": {},
   "outputs": [],
   "source": [
    "new_data.dropna(inplace=True) #dropping other missing values"
   ]
  },
  {
   "cell_type": "markdown",
   "metadata": {},
   "source": [
    "Saving the new dataset in a csv file"
   ]
  },
  {
   "cell_type": "code",
   "execution_count": 69,
   "metadata": {},
   "outputs": [],
   "source": [
    "new_data.to_csv('full_train.csv')"
   ]
  }
 ],
 "metadata": {
  "kernelspec": {
   "display_name": "Python 3",
   "language": "python",
   "name": "python3"
  },
  "language_info": {
   "codemirror_mode": {
    "name": "ipython",
    "version": 3
   },
   "file_extension": ".py",
   "mimetype": "text/x-python",
   "name": "python",
   "nbconvert_exporter": "python",
   "pygments_lexer": "ipython3",
   "version": "3.10.5"
  }
 },
 "nbformat": 4,
 "nbformat_minor": 2
}
