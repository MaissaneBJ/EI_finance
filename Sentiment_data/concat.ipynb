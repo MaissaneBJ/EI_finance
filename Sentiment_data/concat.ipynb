{
 "cells": [
  {
   "cell_type": "code",
   "execution_count": 44,
   "metadata": {},
   "outputs": [],
   "source": [
    "import pandas as pd"
   ]
  },
  {
   "cell_type": "code",
   "execution_count": 45,
   "metadata": {},
   "outputs": [],
   "source": [
    "sentiment_1 = pd.read_csv('sentiment_gpt4_only.csv')\n",
    "sentiment_2 = pd.read_csv('sent_predicted.csv')"
   ]
  },
  {
   "cell_type": "code",
   "execution_count": 46,
   "metadata": {},
   "outputs": [],
   "source": [
    "sentiment_2['Date'] = pd.to_datetime(sentiment_2['Date'])"
   ]
  },
  {
   "cell_type": "code",
   "execution_count": 47,
   "metadata": {},
   "outputs": [],
   "source": [
    "sentiment_2['Date'] = sentiment_2['Date'].dt.date"
   ]
  },
  {
   "cell_type": "code",
   "execution_count": 48,
   "metadata": {},
   "outputs": [
    {
     "data": {
      "text/html": [
       "<div>\n",
       "<style scoped>\n",
       "    .dataframe tbody tr th:only-of-type {\n",
       "        vertical-align: middle;\n",
       "    }\n",
       "\n",
       "    .dataframe tbody tr th {\n",
       "        vertical-align: top;\n",
       "    }\n",
       "\n",
       "    .dataframe thead th {\n",
       "        text-align: right;\n",
       "    }\n",
       "</style>\n",
       "<table border=\"1\" class=\"dataframe\">\n",
       "  <thead>\n",
       "    <tr style=\"text-align: right;\">\n",
       "      <th></th>\n",
       "      <th>Date</th>\n",
       "      <th>Title</th>\n",
       "      <th>Sentiment</th>\n",
       "    </tr>\n",
       "  </thead>\n",
       "  <tbody>\n",
       "    <tr>\n",
       "      <th>0</th>\n",
       "      <td>2010-02-04</td>\n",
       "      <td>CNNMoney.com Market Report - Feb. 4, 2010 - CNN</td>\n",
       "      <td>positive</td>\n",
       "    </tr>\n",
       "    <tr>\n",
       "      <th>1</th>\n",
       "      <td>2011-08-08</td>\n",
       "      <td>Debt crisis sends financial markets into turmo...</td>\n",
       "      <td>negative</td>\n",
       "    </tr>\n",
       "    <tr>\n",
       "      <th>2</th>\n",
       "      <td>2011-10-04</td>\n",
       "      <td>Market Report - Oct. 4, 2011 - CNNMoney - CNN</td>\n",
       "      <td>positive</td>\n",
       "    </tr>\n",
       "    <tr>\n",
       "      <th>3</th>\n",
       "      <td>2010-12-02</td>\n",
       "      <td>Natural Gas Weekly Update - EIA</td>\n",
       "      <td>negative</td>\n",
       "    </tr>\n",
       "    <tr>\n",
       "      <th>4</th>\n",
       "      <td>2011-01-05</td>\n",
       "      <td>World food prices enter 'danger territory' to ...</td>\n",
       "      <td>negative</td>\n",
       "    </tr>\n",
       "    <tr>\n",
       "      <th>...</th>\n",
       "      <td>...</td>\n",
       "      <td>...</td>\n",
       "      <td>...</td>\n",
       "    </tr>\n",
       "    <tr>\n",
       "      <th>583</th>\n",
       "      <td>2010-10-09</td>\n",
       "      <td>A better way - The Economist</td>\n",
       "      <td>positive</td>\n",
       "    </tr>\n",
       "    <tr>\n",
       "      <th>584</th>\n",
       "      <td>2010-04-11</td>\n",
       "      <td>Euro Nations Offer Greece $40 Billion Backstop...</td>\n",
       "      <td>positive</td>\n",
       "    </tr>\n",
       "    <tr>\n",
       "      <th>585</th>\n",
       "      <td>2011-12-02</td>\n",
       "      <td>GMAC Mortgage to halt most new lending in Mass...</td>\n",
       "      <td>negative</td>\n",
       "    </tr>\n",
       "    <tr>\n",
       "      <th>586</th>\n",
       "      <td>2011-12-08</td>\n",
       "      <td>ECB cuts interest rates, signals willingness t...</td>\n",
       "      <td>negative</td>\n",
       "    </tr>\n",
       "    <tr>\n",
       "      <th>587</th>\n",
       "      <td>2010-01-15</td>\n",
       "      <td>JPMorgan Chase Earns $11.7 Billion in Year - T...</td>\n",
       "      <td>positive</td>\n",
       "    </tr>\n",
       "  </tbody>\n",
       "</table>\n",
       "<p>588 rows × 3 columns</p>\n",
       "</div>"
      ],
      "text/plain": [
       "           Date                                              Title Sentiment\n",
       "0    2010-02-04    CNNMoney.com Market Report - Feb. 4, 2010 - CNN  positive\n",
       "1    2011-08-08  Debt crisis sends financial markets into turmo...  negative\n",
       "2    2011-10-04      Market Report - Oct. 4, 2011 - CNNMoney - CNN  positive\n",
       "3    2010-12-02                    Natural Gas Weekly Update - EIA  negative\n",
       "4    2011-01-05  World food prices enter 'danger territory' to ...  negative\n",
       "..          ...                                                ...       ...\n",
       "583  2010-10-09                       A better way - The Economist  positive\n",
       "584  2010-04-11  Euro Nations Offer Greece $40 Billion Backstop...  positive\n",
       "585  2011-12-02  GMAC Mortgage to halt most new lending in Mass...  negative\n",
       "586  2011-12-08  ECB cuts interest rates, signals willingness t...  negative\n",
       "587  2010-01-15  JPMorgan Chase Earns $11.7 Billion in Year - T...  positive\n",
       "\n",
       "[588 rows x 3 columns]"
      ]
     },
     "execution_count": 48,
     "metadata": {},
     "output_type": "execute_result"
    }
   ],
   "source": [
    "sentiment_2"
   ]
  },
  {
   "cell_type": "code",
   "execution_count": 53,
   "metadata": {},
   "outputs": [
    {
     "data": {
      "text/html": [
       "<div>\n",
       "<style scoped>\n",
       "    .dataframe tbody tr th:only-of-type {\n",
       "        vertical-align: middle;\n",
       "    }\n",
       "\n",
       "    .dataframe tbody tr th {\n",
       "        vertical-align: top;\n",
       "    }\n",
       "\n",
       "    .dataframe thead th {\n",
       "        text-align: right;\n",
       "    }\n",
       "</style>\n",
       "<table border=\"1\" class=\"dataframe\">\n",
       "  <thead>\n",
       "    <tr style=\"text-align: right;\">\n",
       "      <th></th>\n",
       "      <th>Date</th>\n",
       "      <th>Title</th>\n",
       "      <th>Sentiment</th>\n",
       "    </tr>\n",
       "  </thead>\n",
       "  <tbody>\n",
       "    <tr>\n",
       "      <th>0</th>\n",
       "      <td>2010-01-04</td>\n",
       "      <td>Global Stocks and Commodities Rally on First T...</td>\n",
       "      <td>positive</td>\n",
       "    </tr>\n",
       "    <tr>\n",
       "      <th>1</th>\n",
       "      <td>2010-01-04</td>\n",
       "      <td>Dollar Slumps Amid Worldwide Manufacturing Imp...</td>\n",
       "      <td>negative</td>\n",
       "    </tr>\n",
       "    <tr>\n",
       "      <th>2</th>\n",
       "      <td>2010-01-04</td>\n",
       "      <td>Oil Prices Surge Above $81 a Barrel Due to U.S...</td>\n",
       "      <td>negative</td>\n",
       "    </tr>\n",
       "    <tr>\n",
       "      <th>3</th>\n",
       "      <td>2010-01-04</td>\n",
       "      <td>S&amp;P 500 Sees 1.6 Percent Increase, Hits 15-Mon...</td>\n",
       "      <td>positive</td>\n",
       "    </tr>\n",
       "    <tr>\n",
       "      <th>4</th>\n",
       "      <td>2010-01-04</td>\n",
       "      <td>Argentina's Merval Index Reaches Record High, ...</td>\n",
       "      <td>positive</td>\n",
       "    </tr>\n",
       "    <tr>\n",
       "      <th>...</th>\n",
       "      <td>...</td>\n",
       "      <td>...</td>\n",
       "      <td>...</td>\n",
       "    </tr>\n",
       "    <tr>\n",
       "      <th>8134</th>\n",
       "      <td>2011-12-30</td>\n",
       "      <td>Earnings Season Begins with JPMorgan and Citi...</td>\n",
       "      <td>indecisive</td>\n",
       "    </tr>\n",
       "    <tr>\n",
       "      <th>8135</th>\n",
       "      <td>2011-12-30</td>\n",
       "      <td>June Inflation Report Expected to Show Price ...</td>\n",
       "      <td>indecisive</td>\n",
       "    </tr>\n",
       "    <tr>\n",
       "      <th>8136</th>\n",
       "      <td>2011-12-30</td>\n",
       "      <td>Chinese Trade Data Expected to Show Slower Ex...</td>\n",
       "      <td>negative</td>\n",
       "    </tr>\n",
       "    <tr>\n",
       "      <th>8137</th>\n",
       "      <td>2011-12-30</td>\n",
       "      <td>S&amp;P 500 Exchange-Traded Fund Slips 0.5 Percen...</td>\n",
       "      <td>negative</td>\n",
       "    </tr>\n",
       "    <tr>\n",
       "      <th>8138</th>\n",
       "      <td>2011-12-30</td>\n",
       "      <td>Bloomberg Dollar Spot Index Drops 0.1 Percent</td>\n",
       "      <td>indecisive</td>\n",
       "    </tr>\n",
       "  </tbody>\n",
       "</table>\n",
       "<p>8139 rows × 3 columns</p>\n",
       "</div>"
      ],
      "text/plain": [
       "            Date                                              Title  \\\n",
       "0     2010-01-04  Global Stocks and Commodities Rally on First T...   \n",
       "1     2010-01-04  Dollar Slumps Amid Worldwide Manufacturing Imp...   \n",
       "2     2010-01-04  Oil Prices Surge Above $81 a Barrel Due to U.S...   \n",
       "3     2010-01-04  S&P 500 Sees 1.6 Percent Increase, Hits 15-Mon...   \n",
       "4     2010-01-04  Argentina's Merval Index Reaches Record High, ...   \n",
       "...          ...                                                ...   \n",
       "8134  2011-12-30   Earnings Season Begins with JPMorgan and Citi...   \n",
       "8135  2011-12-30   June Inflation Report Expected to Show Price ...   \n",
       "8136  2011-12-30   Chinese Trade Data Expected to Show Slower Ex...   \n",
       "8137  2011-12-30   S&P 500 Exchange-Traded Fund Slips 0.5 Percen...   \n",
       "8138  2011-12-30      Bloomberg Dollar Spot Index Drops 0.1 Percent   \n",
       "\n",
       "       Sentiment  \n",
       "0       positive  \n",
       "1       negative  \n",
       "2       negative  \n",
       "3       positive  \n",
       "4       positive  \n",
       "...          ...  \n",
       "8134  indecisive  \n",
       "8135  indecisive  \n",
       "8136    negative  \n",
       "8137    negative  \n",
       "8138  indecisive  \n",
       "\n",
       "[8139 rows x 3 columns]"
      ]
     },
     "execution_count": 53,
     "metadata": {},
     "output_type": "execute_result"
    }
   ],
   "source": [
    "sentiment_1"
   ]
  },
  {
   "cell_type": "code",
   "execution_count": 49,
   "metadata": {},
   "outputs": [],
   "source": [
    "sentiment_1['Date'] = pd.to_datetime(sentiment_1['Date'])"
   ]
  },
  {
   "cell_type": "code",
   "execution_count": 50,
   "metadata": {},
   "outputs": [],
   "source": [
    "sentiment_1['Date'] = sentiment_1['Date'].dt.date"
   ]
  },
  {
   "cell_type": "code",
   "execution_count": 54,
   "metadata": {},
   "outputs": [],
   "source": [
    "concatenated_df = pd.concat([sentiment_1, sentiment_2], ignore_index=True)"
   ]
  },
  {
   "cell_type": "code",
   "execution_count": 56,
   "metadata": {},
   "outputs": [],
   "source": [
    "concatenated_df.to_csv('concatenated_sentiment.csv',index=False)"
   ]
  }
 ],
 "metadata": {
  "kernelspec": {
   "display_name": "Python 3",
   "language": "python",
   "name": "python3"
  },
  "language_info": {
   "codemirror_mode": {
    "name": "ipython",
    "version": 3
   },
   "file_extension": ".py",
   "mimetype": "text/x-python",
   "name": "python",
   "nbconvert_exporter": "python",
   "pygments_lexer": "ipython3",
   "version": "3.10.6"
  }
 },
 "nbformat": 4,
 "nbformat_minor": 2
}
