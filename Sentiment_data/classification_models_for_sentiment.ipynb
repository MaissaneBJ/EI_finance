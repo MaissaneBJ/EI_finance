{
 "cells": [
  {
   "cell_type": "markdown",
   "metadata": {},
   "source": [
    "### This notebook  is used to choose the best classification model that can be used for predicting the sentiment of the data"
   ]
  },
  {
   "cell_type": "code",
   "execution_count": 2,
   "metadata": {},
   "outputs": [],
   "source": [
    "import pandas as pd\n",
    "from sklearn.feature_extraction.text import TfidfVectorizer\n",
    "from sklearn.model_selection import train_test_split\n",
    "from sklearn.naive_bayes import MultinomialNB\n",
    "from sklearn.metrics import accuracy_score, classification_report\n",
    "from xgboost import XGBClassifier\n",
    "from sklearn.preprocessing import LabelEncoder\n",
    "from sklearn.ensemble import RandomForestClassifier\n",
    "from sklearn.tree import DecisionTreeClassifier"
   ]
  },
  {
   "cell_type": "code",
   "execution_count": 108,
   "metadata": {},
   "outputs": [],
   "source": [
    "test = pd.read_csv('sent_data_base.csv')\n",
    "test.rename({'title':'Title'},axis=1,inplace=True)\n",
    "test.rename({'date':'Date'},axis=1,inplace=True)"
   ]
  },
  {
   "cell_type": "code",
   "execution_count": 91,
   "metadata": {},
   "outputs": [],
   "source": [
    "df = pd.read_csv('sentiment_gpt4_only.csv')"
   ]
  },
  {
   "cell_type": "code",
   "execution_count": 92,
   "metadata": {},
   "outputs": [],
   "source": [
    "#Converting each sentiment into a value, (5 for positive, 4 for negative ...)\n",
    "le=LabelEncoder()\n",
    "le.fit(df['Sentiment'].values)\n",
    "df['val_Sentiment']=le.transform(df['Sentiment'].values)"
   ]
  },
  {
   "cell_type": "code",
   "execution_count": 95,
   "metadata": {},
   "outputs": [],
   "source": [
    "#merging the two datasets, the one used for training and the one that will be predicted. This is essential in order to vectorize the data\n",
    "df_combined = pd.concat([df, test], ignore_index=True)"
   ]
  },
  {
   "cell_type": "code",
   "execution_count": 96,
   "metadata": {},
   "outputs": [
    {
     "data": {
      "text/html": [
       "<div>\n",
       "<style scoped>\n",
       "    .dataframe tbody tr th:only-of-type {\n",
       "        vertical-align: middle;\n",
       "    }\n",
       "\n",
       "    .dataframe tbody tr th {\n",
       "        vertical-align: top;\n",
       "    }\n",
       "\n",
       "    .dataframe thead th {\n",
       "        text-align: right;\n",
       "    }\n",
       "</style>\n",
       "<table border=\"1\" class=\"dataframe\">\n",
       "  <thead>\n",
       "    <tr style=\"text-align: right;\">\n",
       "      <th></th>\n",
       "      <th>Date</th>\n",
       "      <th>Title</th>\n",
       "      <th>Sentiment</th>\n",
       "      <th>val_Sentiment</th>\n",
       "    </tr>\n",
       "  </thead>\n",
       "  <tbody>\n",
       "    <tr>\n",
       "      <th>0</th>\n",
       "      <td>2010-01-04 00:00:00</td>\n",
       "      <td>Global Stocks and Commodities Rally on First T...</td>\n",
       "      <td>positive</td>\n",
       "      <td>5.0</td>\n",
       "    </tr>\n",
       "    <tr>\n",
       "      <th>1</th>\n",
       "      <td>2010-01-04 00:00:00</td>\n",
       "      <td>Dollar Slumps Amid Worldwide Manufacturing Imp...</td>\n",
       "      <td>negative</td>\n",
       "      <td>4.0</td>\n",
       "    </tr>\n",
       "    <tr>\n",
       "      <th>2</th>\n",
       "      <td>2010-01-04 00:00:00</td>\n",
       "      <td>Oil Prices Surge Above $81 a Barrel Due to U.S...</td>\n",
       "      <td>negative</td>\n",
       "      <td>4.0</td>\n",
       "    </tr>\n",
       "    <tr>\n",
       "      <th>3</th>\n",
       "      <td>2010-01-04 00:00:00</td>\n",
       "      <td>S&amp;P 500 Sees 1.6 Percent Increase, Hits 15-Mon...</td>\n",
       "      <td>positive</td>\n",
       "      <td>5.0</td>\n",
       "    </tr>\n",
       "    <tr>\n",
       "      <th>4</th>\n",
       "      <td>2010-01-04 00:00:00</td>\n",
       "      <td>Argentina's Merval Index Reaches Record High, ...</td>\n",
       "      <td>positive</td>\n",
       "      <td>5.0</td>\n",
       "    </tr>\n",
       "    <tr>\n",
       "      <th>...</th>\n",
       "      <td>...</td>\n",
       "      <td>...</td>\n",
       "      <td>...</td>\n",
       "      <td>...</td>\n",
       "    </tr>\n",
       "    <tr>\n",
       "      <th>8722</th>\n",
       "      <td>2010-10-09 07:00:00+00:00</td>\n",
       "      <td>A better way - The Economist</td>\n",
       "      <td>NaN</td>\n",
       "      <td>NaN</td>\n",
       "    </tr>\n",
       "    <tr>\n",
       "      <th>8723</th>\n",
       "      <td>2010-04-11 07:00:00+00:00</td>\n",
       "      <td>Euro Nations Offer Greece $40 Billion Backstop...</td>\n",
       "      <td>NaN</td>\n",
       "      <td>NaN</td>\n",
       "    </tr>\n",
       "    <tr>\n",
       "      <th>8724</th>\n",
       "      <td>2011-12-02 08:00:00+00:00</td>\n",
       "      <td>GMAC Mortgage to halt most new lending in Mass...</td>\n",
       "      <td>NaN</td>\n",
       "      <td>NaN</td>\n",
       "    </tr>\n",
       "    <tr>\n",
       "      <th>8725</th>\n",
       "      <td>2011-12-08 08:00:00+00:00</td>\n",
       "      <td>ECB cuts interest rates, signals willingness t...</td>\n",
       "      <td>NaN</td>\n",
       "      <td>NaN</td>\n",
       "    </tr>\n",
       "    <tr>\n",
       "      <th>8726</th>\n",
       "      <td>2010-01-15 08:00:00+00:00</td>\n",
       "      <td>JPMorgan Chase Earns $11.7 Billion in Year - T...</td>\n",
       "      <td>NaN</td>\n",
       "      <td>NaN</td>\n",
       "    </tr>\n",
       "  </tbody>\n",
       "</table>\n",
       "<p>8727 rows × 4 columns</p>\n",
       "</div>"
      ],
      "text/plain": [
       "                           Date  \\\n",
       "0           2010-01-04 00:00:00   \n",
       "1           2010-01-04 00:00:00   \n",
       "2           2010-01-04 00:00:00   \n",
       "3           2010-01-04 00:00:00   \n",
       "4           2010-01-04 00:00:00   \n",
       "...                         ...   \n",
       "8722  2010-10-09 07:00:00+00:00   \n",
       "8723  2010-04-11 07:00:00+00:00   \n",
       "8724  2011-12-02 08:00:00+00:00   \n",
       "8725  2011-12-08 08:00:00+00:00   \n",
       "8726  2010-01-15 08:00:00+00:00   \n",
       "\n",
       "                                                  Title Sentiment  \\\n",
       "0     Global Stocks and Commodities Rally on First T...  positive   \n",
       "1     Dollar Slumps Amid Worldwide Manufacturing Imp...  negative   \n",
       "2     Oil Prices Surge Above $81 a Barrel Due to U.S...  negative   \n",
       "3     S&P 500 Sees 1.6 Percent Increase, Hits 15-Mon...  positive   \n",
       "4     Argentina's Merval Index Reaches Record High, ...  positive   \n",
       "...                                                 ...       ...   \n",
       "8722                       A better way - The Economist       NaN   \n",
       "8723  Euro Nations Offer Greece $40 Billion Backstop...       NaN   \n",
       "8724  GMAC Mortgage to halt most new lending in Mass...       NaN   \n",
       "8725  ECB cuts interest rates, signals willingness t...       NaN   \n",
       "8726  JPMorgan Chase Earns $11.7 Billion in Year - T...       NaN   \n",
       "\n",
       "      val_Sentiment  \n",
       "0               5.0  \n",
       "1               4.0  \n",
       "2               4.0  \n",
       "3               5.0  \n",
       "4               5.0  \n",
       "...             ...  \n",
       "8722            NaN  \n",
       "8723            NaN  \n",
       "8724            NaN  \n",
       "8725            NaN  \n",
       "8726            NaN  \n",
       "\n",
       "[8727 rows x 4 columns]"
      ]
     },
     "execution_count": 96,
     "metadata": {},
     "output_type": "execute_result"
    }
   ],
   "source": [
    "df_combined"
   ]
  },
  {
   "cell_type": "markdown",
   "metadata": {},
   "source": [
    "#### we used two types of prediction, the first one is to predict whether the sentiment is positive or negative or indecisive and the second one is used to predict whether the sentiment value is 0, 1 or 2"
   ]
  },
  {
   "cell_type": "code",
   "execution_count": 97,
   "metadata": {},
   "outputs": [],
   "source": [
    "#vectorisation \n",
    "vectorizer = TfidfVectorizer(stop_words='english')\n",
    "X = vectorizer.fit_transform(df_combined['Title'])\n",
    "y = df['Sentiment'][:8139]\n",
    "y_bis = df['val_Sentiment'] \n",
    "X_train, X_test, y_train, y_test, y_bis_train,y_bis_test = train_test_split(X[:8139], y,y_bis, test_size=0.2, random_state=42)"
   ]
  },
  {
   "cell_type": "code",
   "execution_count": 98,
   "metadata": {},
   "outputs": [],
   "source": [
    "X_2 = X[8139:]"
   ]
  },
  {
   "cell_type": "code",
   "execution_count": 10,
   "metadata": {},
   "outputs": [
    {
     "name": "stdout",
     "output_type": "stream",
     "text": [
      "Accuracy: 0.7352579852579852\n",
      "              precision    recall  f1-score   support\n",
      "\n",
      "- indecisive       0.00      0.00      0.00         3\n",
      "  - negative       0.00      0.00      0.00         2\n",
      "  - positive       0.00      0.00      0.00         2\n",
      "  indecisive       1.00      0.01      0.02       126\n",
      "    negative       0.70      0.88      0.78       806\n",
      "    positive       0.78      0.70      0.74       689\n",
      "\n",
      "    accuracy                           0.74      1628\n",
      "   macro avg       0.41      0.27      0.26      1628\n",
      "weighted avg       0.76      0.74      0.70      1628\n",
      "\n"
     ]
    },
    {
     "name": "stderr",
     "output_type": "stream",
     "text": [
      "/Library/Frameworks/Python.framework/Versions/3.10/lib/python3.10/site-packages/sklearn/metrics/_classification.py:1509: UndefinedMetricWarning: Precision is ill-defined and being set to 0.0 in labels with no predicted samples. Use `zero_division` parameter to control this behavior.\n",
      "  _warn_prf(average, modifier, f\"{metric.capitalize()} is\", len(result))\n",
      "/Library/Frameworks/Python.framework/Versions/3.10/lib/python3.10/site-packages/sklearn/metrics/_classification.py:1509: UndefinedMetricWarning: Precision is ill-defined and being set to 0.0 in labels with no predicted samples. Use `zero_division` parameter to control this behavior.\n",
      "  _warn_prf(average, modifier, f\"{metric.capitalize()} is\", len(result))\n",
      "/Library/Frameworks/Python.framework/Versions/3.10/lib/python3.10/site-packages/sklearn/metrics/_classification.py:1509: UndefinedMetricWarning: Precision is ill-defined and being set to 0.0 in labels with no predicted samples. Use `zero_division` parameter to control this behavior.\n",
      "  _warn_prf(average, modifier, f\"{metric.capitalize()} is\", len(result))\n"
     ]
    }
   ],
   "source": [
    "#bayesian classification\n",
    "model = MultinomialNB()\n",
    "model.fit(X_train, y_train)\n",
    "y_pred = model.predict(X_test)\n",
    "print(f\"Accuracy: {accuracy_score(y_test, y_pred)}\")\n",
    "print(classification_report(y_test, y_pred))"
   ]
  },
  {
   "cell_type": "code",
   "execution_count": 41,
   "metadata": {},
   "outputs": [
    {
     "name": "stdout",
     "output_type": "stream",
     "text": [
      "Accuracy: 0.7352579852579852\n",
      "              precision    recall  f1-score   support\n",
      "\n",
      "           0       0.00      0.00      0.00         3\n",
      "           1       0.00      0.00      0.00         2\n",
      "           2       0.00      0.00      0.00         2\n",
      "           3       1.00      0.01      0.02       126\n",
      "           4       0.70      0.88      0.78       806\n",
      "           5       0.78      0.70      0.74       689\n",
      "\n",
      "    accuracy                           0.74      1628\n",
      "   macro avg       0.41      0.27      0.26      1628\n",
      "weighted avg       0.76      0.74      0.70      1628\n",
      "\n"
     ]
    },
    {
     "name": "stderr",
     "output_type": "stream",
     "text": [
      "/Library/Frameworks/Python.framework/Versions/3.10/lib/python3.10/site-packages/sklearn/metrics/_classification.py:1509: UndefinedMetricWarning: Precision is ill-defined and being set to 0.0 in labels with no predicted samples. Use `zero_division` parameter to control this behavior.\n",
      "  _warn_prf(average, modifier, f\"{metric.capitalize()} is\", len(result))\n",
      "/Library/Frameworks/Python.framework/Versions/3.10/lib/python3.10/site-packages/sklearn/metrics/_classification.py:1509: UndefinedMetricWarning: Precision is ill-defined and being set to 0.0 in labels with no predicted samples. Use `zero_division` parameter to control this behavior.\n",
      "  _warn_prf(average, modifier, f\"{metric.capitalize()} is\", len(result))\n",
      "/Library/Frameworks/Python.framework/Versions/3.10/lib/python3.10/site-packages/sklearn/metrics/_classification.py:1509: UndefinedMetricWarning: Precision is ill-defined and being set to 0.0 in labels with no predicted samples. Use `zero_division` parameter to control this behavior.\n",
      "  _warn_prf(average, modifier, f\"{metric.capitalize()} is\", len(result))\n"
     ]
    }
   ],
   "source": [
    "model = MultinomialNB()\n",
    "model.fit(X_train, y_bis_train)\n",
    "y_bis_pred = model.predict(X_test)\n",
    "print(f\"Accuracy: {accuracy_score(y_bis_test, y_bis_pred)}\")\n",
    "print(classification_report(y_bis_test, y_bis_pred))"
   ]
  },
  {
   "cell_type": "code",
   "execution_count": 14,
   "metadata": {},
   "outputs": [
    {
     "name": "stdout",
     "output_type": "stream",
     "text": [
      "Accuracy: 0.7039312039312039\n"
     ]
    }
   ],
   "source": [
    "#decision tree\n",
    "clf = DecisionTreeClassifier()\n",
    "clf.fit(X_train, y_train)\n",
    "\n",
    "predictions = clf.predict(X_test)\n",
    "\n",
    "accuracy = accuracy_score(y_test, predictions)\n",
    "print(\"Accuracy:\", accuracy)"
   ]
  },
  {
   "cell_type": "code",
   "execution_count": 42,
   "metadata": {},
   "outputs": [
    {
     "name": "stdout",
     "output_type": "stream",
     "text": [
      "Accuracy: 0.7002457002457002\n"
     ]
    }
   ],
   "source": [
    "clf = DecisionTreeClassifier()\n",
    "clf.fit(X_train, y_bis_train)\n",
    "\n",
    "predictions = clf.predict(X_test)\n",
    "\n",
    "accuracy = accuracy_score(y_bis_test, predictions)\n",
    "print(\"Accuracy:\", accuracy)"
   ]
  },
  {
   "cell_type": "code",
   "execution_count": 43,
   "metadata": {},
   "outputs": [
    {
     "name": "stdout",
     "output_type": "stream",
     "text": [
      "Accuracy: 0.769041769041769\n"
     ]
    }
   ],
   "source": [
    "#XGBoost classifier\n",
    "xgb = XGBClassifier()\n",
    "xgb.fit(X_train, y_bis_train)\n",
    "predictions = xgb.predict(X_test)\n",
    "accuracy = accuracy_score(y_bis_test, predictions)\n",
    "print(\"Accuracy:\", accuracy)"
   ]
  },
  {
   "cell_type": "code",
   "execution_count": 100,
   "metadata": {},
   "outputs": [
    {
     "name": "stdout",
     "output_type": "stream",
     "text": [
      "Accuracy: 0.7807125307125307\n"
     ]
    }
   ],
   "source": [
    "#Random forest classifier\n",
    "rf = RandomForestClassifier()\n",
    "rf.fit(X_train, y_train)\n",
    "\n",
    "predictions = rf.predict(X_test)\n",
    "\n",
    "accuracy = accuracy_score(y_test, predictions)\n",
    "print(\"Accuracy:\", accuracy)"
   ]
  },
  {
   "cell_type": "code",
   "execution_count": null,
   "metadata": {},
   "outputs": [],
   "source": [
    "rf = RandomForestClassifier()\n",
    "rf.fit(X_train, y_bis_train)\n",
    "predictions = rf.predict(X_test)\n",
    "accuracy = accuracy_score(y_bis_test, predictions)\n",
    "print(\"Accuracy:\", accuracy)"
   ]
  },
  {
   "cell_type": "markdown",
   "metadata": {},
   "source": [
    "In all models, sentiment prediction is better when it is not labelled and we observe that the best model is random forest classifier"
   ]
  },
  {
   "cell_type": "code",
   "execution_count": 101,
   "metadata": {},
   "outputs": [],
   "source": [
    "Y = rf.predict(X_2)"
   ]
  },
  {
   "cell_type": "code",
   "execution_count": 102,
   "metadata": {},
   "outputs": [],
   "source": [
    "test['Sentiment'] = Y"
   ]
  },
  {
   "cell_type": "code",
   "execution_count": 105,
   "metadata": {},
   "outputs": [
    {
     "data": {
      "text/html": [
       "<div>\n",
       "<style scoped>\n",
       "    .dataframe tbody tr th:only-of-type {\n",
       "        vertical-align: middle;\n",
       "    }\n",
       "\n",
       "    .dataframe tbody tr th {\n",
       "        vertical-align: top;\n",
       "    }\n",
       "\n",
       "    .dataframe thead th {\n",
       "        text-align: right;\n",
       "    }\n",
       "</style>\n",
       "<table border=\"1\" class=\"dataframe\">\n",
       "  <thead>\n",
       "    <tr style=\"text-align: right;\">\n",
       "      <th></th>\n",
       "      <th>Date</th>\n",
       "      <th>Title</th>\n",
       "      <th>Sentiment</th>\n",
       "    </tr>\n",
       "  </thead>\n",
       "  <tbody>\n",
       "    <tr>\n",
       "      <th>0</th>\n",
       "      <td>2010-02-04 08:00:00+00:00</td>\n",
       "      <td>CNNMoney.com Market Report - Feb. 4, 2010 - CNN</td>\n",
       "      <td>positive</td>\n",
       "    </tr>\n",
       "    <tr>\n",
       "      <th>1</th>\n",
       "      <td>2011-08-08 07:00:00+00:00</td>\n",
       "      <td>Debt crisis sends financial markets into turmo...</td>\n",
       "      <td>negative</td>\n",
       "    </tr>\n",
       "    <tr>\n",
       "      <th>2</th>\n",
       "      <td>2011-10-04 07:00:00+00:00</td>\n",
       "      <td>Market Report - Oct. 4, 2011 - CNNMoney - CNN</td>\n",
       "      <td>positive</td>\n",
       "    </tr>\n",
       "    <tr>\n",
       "      <th>3</th>\n",
       "      <td>2010-12-02 08:00:00+00:00</td>\n",
       "      <td>Natural Gas Weekly Update - EIA</td>\n",
       "      <td>negative</td>\n",
       "    </tr>\n",
       "    <tr>\n",
       "      <th>4</th>\n",
       "      <td>2011-01-05 08:00:00+00:00</td>\n",
       "      <td>World food prices enter 'danger territory' to ...</td>\n",
       "      <td>negative</td>\n",
       "    </tr>\n",
       "    <tr>\n",
       "      <th>...</th>\n",
       "      <td>...</td>\n",
       "      <td>...</td>\n",
       "      <td>...</td>\n",
       "    </tr>\n",
       "    <tr>\n",
       "      <th>583</th>\n",
       "      <td>2010-10-09 07:00:00+00:00</td>\n",
       "      <td>A better way - The Economist</td>\n",
       "      <td>positive</td>\n",
       "    </tr>\n",
       "    <tr>\n",
       "      <th>584</th>\n",
       "      <td>2010-04-11 07:00:00+00:00</td>\n",
       "      <td>Euro Nations Offer Greece $40 Billion Backstop...</td>\n",
       "      <td>positive</td>\n",
       "    </tr>\n",
       "    <tr>\n",
       "      <th>585</th>\n",
       "      <td>2011-12-02 08:00:00+00:00</td>\n",
       "      <td>GMAC Mortgage to halt most new lending in Mass...</td>\n",
       "      <td>negative</td>\n",
       "    </tr>\n",
       "    <tr>\n",
       "      <th>586</th>\n",
       "      <td>2011-12-08 08:00:00+00:00</td>\n",
       "      <td>ECB cuts interest rates, signals willingness t...</td>\n",
       "      <td>negative</td>\n",
       "    </tr>\n",
       "    <tr>\n",
       "      <th>587</th>\n",
       "      <td>2010-01-15 08:00:00+00:00</td>\n",
       "      <td>JPMorgan Chase Earns $11.7 Billion in Year - T...</td>\n",
       "      <td>positive</td>\n",
       "    </tr>\n",
       "  </tbody>\n",
       "</table>\n",
       "<p>588 rows × 3 columns</p>\n",
       "</div>"
      ],
      "text/plain": [
       "                          Date  \\\n",
       "0    2010-02-04 08:00:00+00:00   \n",
       "1    2011-08-08 07:00:00+00:00   \n",
       "2    2011-10-04 07:00:00+00:00   \n",
       "3    2010-12-02 08:00:00+00:00   \n",
       "4    2011-01-05 08:00:00+00:00   \n",
       "..                         ...   \n",
       "583  2010-10-09 07:00:00+00:00   \n",
       "584  2010-04-11 07:00:00+00:00   \n",
       "585  2011-12-02 08:00:00+00:00   \n",
       "586  2011-12-08 08:00:00+00:00   \n",
       "587  2010-01-15 08:00:00+00:00   \n",
       "\n",
       "                                                 Title Sentiment  \n",
       "0      CNNMoney.com Market Report - Feb. 4, 2010 - CNN  positive  \n",
       "1    Debt crisis sends financial markets into turmo...  negative  \n",
       "2        Market Report - Oct. 4, 2011 - CNNMoney - CNN  positive  \n",
       "3                      Natural Gas Weekly Update - EIA  negative  \n",
       "4    World food prices enter 'danger territory' to ...  negative  \n",
       "..                                                 ...       ...  \n",
       "583                       A better way - The Economist  positive  \n",
       "584  Euro Nations Offer Greece $40 Billion Backstop...  positive  \n",
       "585  GMAC Mortgage to halt most new lending in Mass...  negative  \n",
       "586  ECB cuts interest rates, signals willingness t...  negative  \n",
       "587  JPMorgan Chase Earns $11.7 Billion in Year - T...  positive  \n",
       "\n",
       "[588 rows x 3 columns]"
      ]
     },
     "execution_count": 105,
     "metadata": {},
     "output_type": "execute_result"
    }
   ],
   "source": [
    "test"
   ]
  },
  {
   "cell_type": "code",
   "execution_count": 107,
   "metadata": {},
   "outputs": [],
   "source": [
    "test.to_csv('sent_predicted.csv',index=False)"
   ]
  }
 ],
 "metadata": {
  "kernelspec": {
   "display_name": "Python 3",
   "language": "python",
   "name": "python3"
  },
  "language_info": {
   "codemirror_mode": {
    "name": "ipython",
    "version": 3
   },
   "file_extension": ".py",
   "mimetype": "text/x-python",
   "name": "python",
   "nbconvert_exporter": "python",
   "pygments_lexer": "ipython3",
   "version": "3.10.6"
  }
 },
 "nbformat": 4,
 "nbformat_minor": 2
}
