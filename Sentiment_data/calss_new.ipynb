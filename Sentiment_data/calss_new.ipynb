{
 "cells": [
  {
   "cell_type": "markdown",
   "metadata": {},
   "source": [
    "### This notebook is used to classify the data collected from the internet"
   ]
  },
  {
   "cell_type": "code",
   "execution_count": 67,
   "metadata": {},
   "outputs": [],
   "source": [
    "import pandas as pd\n",
    "from sklearn.ensemble import RandomForestClassifier\n",
    "from sklearn.metrics import accuracy_score, classification_report\n",
    "from sklearn.model_selection import train_test_split\n",
    "from sklearn.feature_extraction.text import TfidfVectorizer"
   ]
  },
  {
   "cell_type": "code",
   "execution_count": 68,
   "metadata": {},
   "outputs": [],
   "source": [
    "df = pd.read_csv('sentiment_gpt4_only.csv')\n",
    "df_2008 = pd.read_csv('archive/2008.csv')\n",
    "df_2009 = pd.read_csv('archive/2009.csv')\n",
    "df_2010 = pd.read_csv('archive/2010.csv')\n",
    "df_2011 = pd.read_csv('archive/2011.csv')"
   ]
  },
  {
   "cell_type": "code",
   "execution_count": 69,
   "metadata": {},
   "outputs": [],
   "source": [
    "df_2008.drop(columns=['Unnamed: 0'], inplace=True)\n",
    "df_2009.drop(columns=['Unnamed: 0'], inplace=True)\n",
    "df_2010.drop(columns=['Unnamed: 0'], inplace=True)\n",
    "df_2011.drop(columns=['Unnamed: 0'], inplace=True)"
   ]
  },
  {
   "cell_type": "code",
   "execution_count": 70,
   "metadata": {},
   "outputs": [],
   "source": [
    "df_2008.rename({'News':'Title'},axis=1,inplace=True)\n",
    "df_2009.rename({'News':'Title'},axis=1,inplace=True)\n",
    "df_2010.rename({'News':'Title'},axis=1,inplace=True)\n",
    "df_2011.rename({'News':'Title'},axis=1,inplace=True)"
   ]
  },
  {
   "cell_type": "code",
   "execution_count": 71,
   "metadata": {},
   "outputs": [],
   "source": [
    "df_2008.dropna(inplace=True)\n",
    "df_2009.dropna(inplace=True)\n",
    "df_2010.dropna(inplace=True)\n",
    "df_2011.dropna(inplace=True)"
   ]
  },
  {
   "cell_type": "code",
   "execution_count": 72,
   "metadata": {},
   "outputs": [
    {
     "name": "stdout",
     "output_type": "stream",
     "text": [
      "df shape :  (8139, 3)\n",
      "df_2008 shape :  (360, 2)\n",
      "df_2009 shape :  (359, 2)\n",
      "df_2010 shape :  (359, 2)\n",
      "df_2011 shape :  (357, 2)\n"
     ]
    }
   ],
   "source": [
    "print ('df shape : ',df.shape)\n",
    "print ('df_2008 shape : ',df_2008.shape)\n",
    "print ('df_2009 shape : ',df_2009.shape)\n",
    "print ('df_2010 shape : ',df_2010.shape)\n",
    "print ('df_2011 shape : ',df_2011.shape)"
   ]
  },
  {
   "cell_type": "code",
   "execution_count": 73,
   "metadata": {},
   "outputs": [],
   "source": [
    "df_combined = pd.concat([df, df_2008,df_2009,df_2010,df_2011], ignore_index=True)"
   ]
  },
  {
   "cell_type": "code",
   "execution_count": 74,
   "metadata": {},
   "outputs": [],
   "source": [
    "#vectorisation \n",
    "vectorizer = TfidfVectorizer(stop_words='english')\n",
    "X = vectorizer.fit_transform(df_combined['Title'])\n",
    "y = df['Sentiment'][:8139]\n",
    "X_train, X_test, y_train, y_test = train_test_split(X[:8139], y, test_size=0.2, random_state=42)"
   ]
  },
  {
   "cell_type": "code",
   "execution_count": 75,
   "metadata": {},
   "outputs": [],
   "source": [
    "X_2008 = X[8139:8499]\n",
    "X_2009 = X[8499:8858]\n",
    "X_2010 = X[8858:9217]\n",
    "X_2011 = X[9217:]"
   ]
  },
  {
   "cell_type": "code",
   "execution_count": 76,
   "metadata": {},
   "outputs": [
    {
     "name": "stdout",
     "output_type": "stream",
     "text": [
      "Accuracy: 0.7794840294840295\n"
     ]
    }
   ],
   "source": [
    "rf = RandomForestClassifier()\n",
    "rf.fit(X_train, y_train)\n",
    "predictions = rf.predict(X_test)\n",
    "accuracy = accuracy_score(y_test, predictions)\n",
    "print(\"Accuracy:\", accuracy)"
   ]
  },
  {
   "cell_type": "code",
   "execution_count": 77,
   "metadata": {},
   "outputs": [],
   "source": [
    "Y_2008 = rf.predict(X_2008)\n",
    "Y_2009 = rf.predict(X_2009)\n",
    "Y_2010 = rf.predict(X_2010)\n",
    "Y_2011 = rf.predict(X_2011)"
   ]
  },
  {
   "cell_type": "code",
   "execution_count": 78,
   "metadata": {},
   "outputs": [],
   "source": [
    "df_2008['Sentiment'] = Y_2008\n",
    "df_2009['Sentiment'] = Y_2009\n",
    "df_2010['Sentiment'] = Y_2010\n",
    "df_2011['Sentiment'] = Y_2011"
   ]
  },
  {
   "cell_type": "code",
   "execution_count": 79,
   "metadata": {},
   "outputs": [],
   "source": [
    "df_2008.to_csv('sent_predicted_2008.csv',index=False)\n",
    "df_2009.to_csv('sent_predicted_2009.csv',index=False)\n",
    "df_2010.to_csv('sent_predicted_2010.csv',index=False)\n",
    "df_2011.to_csv('sent_predicted_2011.csv',index=False)"
   ]
  },
  {
   "cell_type": "code",
   "execution_count": 80,
   "metadata": {},
   "outputs": [],
   "source": [
    "df['Date'] = pd.to_datetime(df['Date'])"
   ]
  },
  {
   "cell_type": "code",
   "execution_count": 81,
   "metadata": {},
   "outputs": [],
   "source": [
    "df['Date'] = df['Date'].dt.date"
   ]
  },
  {
   "cell_type": "code",
   "execution_count": 82,
   "metadata": {},
   "outputs": [],
   "source": [
    "df_1 = pd.read_csv('sent_predicted.csv')\n",
    "df_1['Date'] = pd.to_datetime(df_1['Date'])\n",
    "df_1['Date'] = df_1['Date'].dt.date"
   ]
  },
  {
   "cell_type": "code",
   "execution_count": 83,
   "metadata": {},
   "outputs": [],
   "source": [
    "concatenated_df = pd.concat([df,df_1, df_2008,df_2009,df_2010,df_2011], ignore_index=True)"
   ]
  },
  {
   "cell_type": "code",
   "execution_count": 84,
   "metadata": {},
   "outputs": [
    {
     "data": {
      "text/html": [
       "<div>\n",
       "<style scoped>\n",
       "    .dataframe tbody tr th:only-of-type {\n",
       "        vertical-align: middle;\n",
       "    }\n",
       "\n",
       "    .dataframe tbody tr th {\n",
       "        vertical-align: top;\n",
       "    }\n",
       "\n",
       "    .dataframe thead th {\n",
       "        text-align: right;\n",
       "    }\n",
       "</style>\n",
       "<table border=\"1\" class=\"dataframe\">\n",
       "  <thead>\n",
       "    <tr style=\"text-align: right;\">\n",
       "      <th></th>\n",
       "      <th>Date</th>\n",
       "      <th>Title</th>\n",
       "      <th>Sentiment</th>\n",
       "    </tr>\n",
       "  </thead>\n",
       "  <tbody>\n",
       "    <tr>\n",
       "      <th>0</th>\n",
       "      <td>2010-01-04</td>\n",
       "      <td>Global Stocks and Commodities Rally on First T...</td>\n",
       "      <td>positive</td>\n",
       "    </tr>\n",
       "    <tr>\n",
       "      <th>1</th>\n",
       "      <td>2010-01-04</td>\n",
       "      <td>Dollar Slumps Amid Worldwide Manufacturing Imp...</td>\n",
       "      <td>negative</td>\n",
       "    </tr>\n",
       "    <tr>\n",
       "      <th>2</th>\n",
       "      <td>2010-01-04</td>\n",
       "      <td>Oil Prices Surge Above $81 a Barrel Due to U.S...</td>\n",
       "      <td>negative</td>\n",
       "    </tr>\n",
       "    <tr>\n",
       "      <th>3</th>\n",
       "      <td>2010-01-04</td>\n",
       "      <td>S&amp;P 500 Sees 1.6 Percent Increase, Hits 15-Mon...</td>\n",
       "      <td>positive</td>\n",
       "    </tr>\n",
       "    <tr>\n",
       "      <th>4</th>\n",
       "      <td>2010-01-04</td>\n",
       "      <td>Argentina's Merval Index Reaches Record High, ...</td>\n",
       "      <td>positive</td>\n",
       "    </tr>\n",
       "    <tr>\n",
       "      <th>...</th>\n",
       "      <td>...</td>\n",
       "      <td>...</td>\n",
       "      <td>...</td>\n",
       "    </tr>\n",
       "    <tr>\n",
       "      <th>10157</th>\n",
       "      <td>2011-12-27</td>\n",
       "      <td>iraq in 2011: troop departures and power strug...</td>\n",
       "      <td>negative</td>\n",
       "    </tr>\n",
       "    <tr>\n",
       "      <th>10158</th>\n",
       "      <td>2011-12-28</td>\n",
       "      <td>deeply hated, but present: a u.s. touch at kim...</td>\n",
       "      <td>negative</td>\n",
       "    </tr>\n",
       "    <tr>\n",
       "      <th>10159</th>\n",
       "      <td>2011-12-29</td>\n",
       "      <td>space plan from china broadens challenge to u....</td>\n",
       "      <td>negative</td>\n",
       "    </tr>\n",
       "    <tr>\n",
       "      <th>10160</th>\n",
       "      <td>2011-12-30</td>\n",
       "      <td>major shale gas basins as spain acts to cut de...</td>\n",
       "      <td>negative</td>\n",
       "    </tr>\n",
       "    <tr>\n",
       "      <th>10161</th>\n",
       "      <td>2011-12-31</td>\n",
       "      <td>a date with the censors china tv grows racy, a...</td>\n",
       "      <td>negative</td>\n",
       "    </tr>\n",
       "  </tbody>\n",
       "</table>\n",
       "<p>10162 rows × 3 columns</p>\n",
       "</div>"
      ],
      "text/plain": [
       "             Date                                              Title Sentiment\n",
       "0      2010-01-04  Global Stocks and Commodities Rally on First T...  positive\n",
       "1      2010-01-04  Dollar Slumps Amid Worldwide Manufacturing Imp...  negative\n",
       "2      2010-01-04  Oil Prices Surge Above $81 a Barrel Due to U.S...  negative\n",
       "3      2010-01-04  S&P 500 Sees 1.6 Percent Increase, Hits 15-Mon...  positive\n",
       "4      2010-01-04  Argentina's Merval Index Reaches Record High, ...  positive\n",
       "...           ...                                                ...       ...\n",
       "10157  2011-12-27  iraq in 2011: troop departures and power strug...  negative\n",
       "10158  2011-12-28  deeply hated, but present: a u.s. touch at kim...  negative\n",
       "10159  2011-12-29  space plan from china broadens challenge to u....  negative\n",
       "10160  2011-12-30  major shale gas basins as spain acts to cut de...  negative\n",
       "10161  2011-12-31  a date with the censors china tv grows racy, a...  negative\n",
       "\n",
       "[10162 rows x 3 columns]"
      ]
     },
     "execution_count": 84,
     "metadata": {},
     "output_type": "execute_result"
    }
   ],
   "source": [
    "concatenated_df"
   ]
  },
  {
   "cell_type": "code",
   "execution_count": 85,
   "metadata": {},
   "outputs": [],
   "source": [
    "concatenated_df.to_csv('concatenated_sentiment_f.csv',index=False)"
   ]
  }
 ],
 "metadata": {
  "kernelspec": {
   "display_name": "Python 3",
   "language": "python",
   "name": "python3"
  },
  "language_info": {
   "codemirror_mode": {
    "name": "ipython",
    "version": 3
   },
   "file_extension": ".py",
   "mimetype": "text/x-python",
   "name": "python",
   "nbconvert_exporter": "python",
   "pygments_lexer": "ipython3",
   "version": "3.10.6"
  }
 },
 "nbformat": 4,
 "nbformat_minor": 2
}
