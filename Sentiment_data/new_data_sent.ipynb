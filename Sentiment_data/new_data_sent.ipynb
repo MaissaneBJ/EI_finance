{
 "cells": [
  {
   "cell_type": "markdown",
   "metadata": {},
   "source": [
    "### Since the sentiment data collected is not enough (some dates remain empty), we need to find more data in order to complete the dataset"
   ]
  },
  {
   "cell_type": "code",
   "execution_count": 51,
   "metadata": {},
   "outputs": [],
   "source": [
    "from gnews import GNews\n",
    "import pandas as pd\n",
    "import concurrent.futures"
   ]
  },
  {
   "cell_type": "code",
   "execution_count": 52,
   "metadata": {},
   "outputs": [],
   "source": [
    "data_sentiment = pd.read_csv('sentiment_gpt4_only.csv')"
   ]
  },
  {
   "cell_type": "code",
   "execution_count": 11,
   "metadata": {},
   "outputs": [
    {
     "data": {
      "text/html": [
       "<div>\n",
       "<style scoped>\n",
       "    .dataframe tbody tr th:only-of-type {\n",
       "        vertical-align: middle;\n",
       "    }\n",
       "\n",
       "    .dataframe tbody tr th {\n",
       "        vertical-align: top;\n",
       "    }\n",
       "\n",
       "    .dataframe thead th {\n",
       "        text-align: right;\n",
       "    }\n",
       "</style>\n",
       "<table border=\"1\" class=\"dataframe\">\n",
       "  <thead>\n",
       "    <tr style=\"text-align: right;\">\n",
       "      <th></th>\n",
       "      <th>Date</th>\n",
       "      <th>Title</th>\n",
       "      <th>Sentiment</th>\n",
       "    </tr>\n",
       "  </thead>\n",
       "  <tbody>\n",
       "    <tr>\n",
       "      <th>0</th>\n",
       "      <td>2010-01-04 00:00:00</td>\n",
       "      <td>Global Stocks and Commodities Rally on First T...</td>\n",
       "      <td>positive</td>\n",
       "    </tr>\n",
       "    <tr>\n",
       "      <th>1</th>\n",
       "      <td>2010-01-04 00:00:00</td>\n",
       "      <td>Dollar Slumps Amid Worldwide Manufacturing Imp...</td>\n",
       "      <td>negative</td>\n",
       "    </tr>\n",
       "    <tr>\n",
       "      <th>2</th>\n",
       "      <td>2010-01-04 00:00:00</td>\n",
       "      <td>Oil Prices Surge Above $81 a Barrel Due to U.S...</td>\n",
       "      <td>negative</td>\n",
       "    </tr>\n",
       "    <tr>\n",
       "      <th>3</th>\n",
       "      <td>2010-01-04 00:00:00</td>\n",
       "      <td>S&amp;P 500 Sees 1.6 Percent Increase, Hits 15-Mon...</td>\n",
       "      <td>positive</td>\n",
       "    </tr>\n",
       "    <tr>\n",
       "      <th>4</th>\n",
       "      <td>2010-01-04 00:00:00</td>\n",
       "      <td>Argentina's Merval Index Reaches Record High, ...</td>\n",
       "      <td>positive</td>\n",
       "    </tr>\n",
       "    <tr>\n",
       "      <th>...</th>\n",
       "      <td>...</td>\n",
       "      <td>...</td>\n",
       "      <td>...</td>\n",
       "    </tr>\n",
       "    <tr>\n",
       "      <th>8134</th>\n",
       "      <td>2011-12-30 00:00:00</td>\n",
       "      <td>Earnings Season Begins with JPMorgan and Citi...</td>\n",
       "      <td>indecisive</td>\n",
       "    </tr>\n",
       "    <tr>\n",
       "      <th>8135</th>\n",
       "      <td>2011-12-30 00:00:00</td>\n",
       "      <td>June Inflation Report Expected to Show Price ...</td>\n",
       "      <td>indecisive</td>\n",
       "    </tr>\n",
       "    <tr>\n",
       "      <th>8136</th>\n",
       "      <td>2011-12-30 00:00:00</td>\n",
       "      <td>Chinese Trade Data Expected to Show Slower Ex...</td>\n",
       "      <td>negative</td>\n",
       "    </tr>\n",
       "    <tr>\n",
       "      <th>8137</th>\n",
       "      <td>2011-12-30 00:00:00</td>\n",
       "      <td>S&amp;P 500 Exchange-Traded Fund Slips 0.5 Percen...</td>\n",
       "      <td>negative</td>\n",
       "    </tr>\n",
       "    <tr>\n",
       "      <th>8138</th>\n",
       "      <td>2011-12-30 00:00:00</td>\n",
       "      <td>Bloomberg Dollar Spot Index Drops 0.1 Percent</td>\n",
       "      <td>indecisive</td>\n",
       "    </tr>\n",
       "  </tbody>\n",
       "</table>\n",
       "<p>8139 rows × 3 columns</p>\n",
       "</div>"
      ],
      "text/plain": [
       "                     Date                                              Title  \\\n",
       "0     2010-01-04 00:00:00  Global Stocks and Commodities Rally on First T...   \n",
       "1     2010-01-04 00:00:00  Dollar Slumps Amid Worldwide Manufacturing Imp...   \n",
       "2     2010-01-04 00:00:00  Oil Prices Surge Above $81 a Barrel Due to U.S...   \n",
       "3     2010-01-04 00:00:00  S&P 500 Sees 1.6 Percent Increase, Hits 15-Mon...   \n",
       "4     2010-01-04 00:00:00  Argentina's Merval Index Reaches Record High, ...   \n",
       "...                   ...                                                ...   \n",
       "8134  2011-12-30 00:00:00   Earnings Season Begins with JPMorgan and Citi...   \n",
       "8135  2011-12-30 00:00:00   June Inflation Report Expected to Show Price ...   \n",
       "8136  2011-12-30 00:00:00   Chinese Trade Data Expected to Show Slower Ex...   \n",
       "8137  2011-12-30 00:00:00   S&P 500 Exchange-Traded Fund Slips 0.5 Percen...   \n",
       "8138  2011-12-30 00:00:00      Bloomberg Dollar Spot Index Drops 0.1 Percent   \n",
       "\n",
       "       Sentiment  \n",
       "0       positive  \n",
       "1       negative  \n",
       "2       negative  \n",
       "3       positive  \n",
       "4       positive  \n",
       "...          ...  \n",
       "8134  indecisive  \n",
       "8135  indecisive  \n",
       "8136    negative  \n",
       "8137    negative  \n",
       "8138  indecisive  \n",
       "\n",
       "[8139 rows x 3 columns]"
      ]
     },
     "execution_count": 11,
     "metadata": {},
     "output_type": "execute_result"
    }
   ],
   "source": [
    "data_sentiment"
   ]
  },
  {
   "cell_type": "code",
   "execution_count": 8,
   "metadata": {},
   "outputs": [],
   "source": [
    "google_news = GNews(language='en',country='US',max_results=5)\n",
    "google_news.start_date = (2000,1, 4) \n",
    "google_news.end_date = (2011, 12, 30)"
   ]
  },
  {
   "cell_type": "markdown",
   "metadata": {},
   "source": [
    "The data collecting takes so much time, so the best thing to reduce the compilation time is the use parallel methopd compilation"
   ]
  },
  {
   "cell_type": "code",
   "execution_count": 13,
   "metadata": {},
   "outputs": [],
   "source": [
    "def fetch_related_news(title):\n",
    "    news = google_news.get_news(title)\n",
    "    return news[:5]  \n",
    "\n",
    "# Function to parallelize fetching news\n",
    "def parallel_fetch_news(titles):\n",
    "    with concurrent.futures.ThreadPoolExecutor() as executor:\n",
    "        results = list(executor.map(fetch_related_news, titles))\n",
    "    return results\n",
    " \n",
    "# Fetch related news in parallel\n",
    "data_sentiment['related_news'] = parallel_fetch_news(data_sentiment['Title'])"
   ]
  },
  {
   "cell_type": "code",
   "execution_count": 36,
   "metadata": {},
   "outputs": [
    {
     "data": {
      "text/plain": [
       "[{'title': 'CNNMoney.com Market Report - Feb. 4, 2010 - CNN',\n",
       "  'description': 'CNNMoney.com Market Report - Feb. 4, 2010  CNN',\n",
       "  'published date': 'Thu, 04 Feb 2010 08:00:00 GMT',\n",
       "  'url': 'https://news.google.com/rss/articles/CBMiQmh0dHBzOi8vbW9uZXkuY25uLmNvbS8yMDEwLzAyLzA0L21hcmtldHMvbWFya2V0c19uZXd5b3JrL2luZGV4Lmh0bdIBAA?oc=5&hl=en-US&gl=US&ceid=US:en',\n",
       "  'publisher': {'href': 'https://money.cnn.com', 'title': 'CNN'}},\n",
       " {'title': 'Debt crisis sends financial markets into turmoil – Monday 8 August 2011 - The Guardian',\n",
       "  'description': 'Debt crisis sends financial markets into turmoil – Monday 8 August 2011  The Guardian',\n",
       "  'published date': 'Mon, 08 Aug 2011 07:00:00 GMT',\n",
       "  'url': 'https://news.google.com/rss/articles/CBMiYmh0dHBzOi8vd3d3LnRoZWd1YXJkaWFuLmNvbS9idXNpbmVzcy8yMDExL2F1Zy8wOC9zdG9jay1tYXJrZXQtdHVybW9pbC11cy1kb3duZ3JhZGUtZXVyb3pvbmUtY3Jpc2lz0gEA?oc=5&hl=en-US&gl=US&ceid=US:en',\n",
       "  'publisher': {'href': 'https://www.theguardian.com',\n",
       "   'title': 'The Guardian'}},\n",
       " {'title': 'Market Report - Oct. 4, 2011 - CNNMoney - CNN',\n",
       "  'description': 'Market Report - Oct. 4, 2011 - CNNMoney  CNN',\n",
       "  'published date': 'Tue, 04 Oct 2011 07:00:00 GMT',\n",
       "  'url': 'https://news.google.com/rss/articles/CBMiQmh0dHBzOi8vbW9uZXkuY25uLmNvbS8yMDExLzEwLzA0L21hcmtldHMvbWFya2V0c19uZXd5b3JrL2luZGV4Lmh0bdIBAA?oc=5&hl=en-US&gl=US&ceid=US:en',\n",
       "  'publisher': {'href': 'https://money.cnn.com', 'title': 'CNN'}}]"
      ]
     },
     "execution_count": 36,
     "metadata": {},
     "output_type": "execute_result"
    }
   ],
   "source": [
    "data_sentiment['related_news'][0]"
   ]
  },
  {
   "cell_type": "code",
   "execution_count": 44,
   "metadata": {},
   "outputs": [],
   "source": [
    "list_title = []\n",
    "list_date = []\n",
    "for news in data_sentiment['related_news']:\n",
    "    if news:\n",
    "        list_date.append(news[0]['published date'])\n",
    "        list_title.append(news[0]['title'])"
   ]
  },
  {
   "cell_type": "code",
   "execution_count": 46,
   "metadata": {},
   "outputs": [],
   "source": [
    "new_data = pd.DataFrame({'Date': list_date, 'Title': list_title})"
   ]
  },
  {
   "cell_type": "code",
   "execution_count": 48,
   "metadata": {},
   "outputs": [],
   "source": [
    "new_data['Date'] = pd.to_datetime(new_data['Date'])\n",
    "new_data['Date'] = new_data['Date'].dt.date"
   ]
  },
  {
   "cell_type": "code",
   "execution_count": 50,
   "metadata": {},
   "outputs": [],
   "source": [
    "new_data.to_csv('new_data.csv',index=False)"
   ]
  },
  {
   "cell_type": "markdown",
   "metadata": {},
   "source": [
    "There are still so many empty cells so we reduced the time interval in order to increase the probability of having data at the specific dates"
   ]
  },
  {
   "cell_type": "code",
   "execution_count": 54,
   "metadata": {},
   "outputs": [
    {
     "name": "stderr",
     "output_type": "stream",
     "text": [
      "/Library/Frameworks/Python.framework/Versions/3.10/lib/python3.10/site-packages/gnews/gnews.py:132: UserWarning: End date should be after start date, or GNews will return no results\n",
      "  warnings.warn(\"End date should be after start date, or GNews will return no results\")\n",
      "06/06/2024 08:25:11 PM - Remote end closed connection without response\n",
      "06/06/2024 08:25:22 PM - Remote end closed connection without response\n",
      "06/06/2024 08:25:22 PM - ('Connection aborted.', RemoteDisconnected('Remote end closed connection without response'))\n",
      "06/06/2024 08:30:22 PM - Remote end closed connection without response\n",
      "06/06/2024 08:31:31 PM - HTTPSConnectionPool(host='news.google.com', port=443): Max retries exceeded with url: /rss/articles/CBMiZ2h0dHBzOi8vd3d3Lm5kdHZwcm9maXQuY29tL2FtcC9wb2xpdGljcy9zcGFpbi1zLWRlLWd1aW5kb3Mtc2F5cy1jYXRhbG9uaWEtcy1pbmRlcGVuZGVuY2UtcHVzaC1pcy1kb29tZWTSAWdodHRwczovL3d3dy5uZHR2cHJvZml0LmNvbS9hbXAvcG9saXRpY3Mvc3BhaW4tcy1kZS1ndWluZG9zLXNheXMtY2F0YWxvbmlhLXMtaW5kZXBlbmRlbmNlLXB1c2gtaXMtZG9vbWVk?oc=5 (Caused by SSLError(SSLEOFError(8, 'EOF occurred in violation of protocol (_ssl.c:997)')))\n",
      "06/06/2024 08:31:32 PM - Remote end closed connection without response\n",
      "06/06/2024 08:31:32 PM - ('Connection aborted.', RemoteDisconnected('Remote end closed connection without response'))\n",
      "06/06/2024 08:31:32 PM - ('Connection aborted.', RemoteDisconnected('Remote end closed connection without response'))\n",
      "06/06/2024 08:31:32 PM - ('Connection aborted.', RemoteDisconnected('Remote end closed connection without response'))\n",
      "06/06/2024 08:31:32 PM - Remote end closed connection without response\n",
      "06/06/2024 08:31:32 PM - HTTPSConnectionPool(host='news.google.com', port=443): Max retries exceeded with url: /rss/articles/CBMiYmh0dHBzOi8vd3d3Lm1wcm5ld3Mub3JnL3N0b3J5LzIwMjQvMDYvMDYvbWlubmVzb3RhLWZpcnN0LWNhc2Utb2YtZmx1LWF2aWFuLWluZmx1ZW56YS1pbi1kYWlyeS1oZXJk0gEA?oc=5 (Caused by SSLError(SSLEOFError(8, 'EOF occurred in violation of protocol (_ssl.c:997)')))\n",
      "06/06/2024 08:31:33 PM - Remote end closed connection without response\n",
      "06/06/2024 08:32:53 PM - HTTPSConnectionPool(host='news.google.com', port=443): Max retries exceeded with url: /rss/articles/CBMiUmh0dHBzOi8vd3d3Lm55dGltZXMuY29tLzIwMjQvMDYvMDYvbnlyZWdpb24vY29uZ2VzdGlvbi1wcmljaW5nLW10YS1idWRnZXQtbnljLmh0bWzSAQA?oc=5 (Caused by NewConnectionError('<urllib3.connection.HTTPSConnection object at 0x2878494b0>: Failed to establish a new connection: [Errno 51] Network is unreachable'))\n",
      "06/06/2024 08:36:05 PM - Remote end closed connection without response\n",
      "06/06/2024 08:38:48 PM - ('Connection aborted.', RemoteDisconnected('Remote end closed connection without response'))\n",
      "06/06/2024 08:38:48 PM - Remote end closed connection without response\n",
      "06/06/2024 08:38:55 PM - Remote end closed connection without response\n",
      "06/06/2024 08:43:24 PM - Remote end closed connection without response\n"
     ]
    }
   ],
   "source": [
    "list_years= []\n",
    "google_news = GNews(language='en',country='US',max_results=5)\n",
    "for year in range(2000,2010):\n",
    "    google_news.start_date = (year,1, 1) \n",
    "    google_news.end_date = (year, 12, 30)\n",
    "    def fetch_related_news(title):\n",
    "        news = google_news.get_news(title)\n",
    "        return news[:5]  \n",
    "\n",
    "    # Function to parallelize fetching news\n",
    "    def parallel_fetch_news(titles):\n",
    "        with concurrent.futures.ThreadPoolExecutor() as executor:\n",
    "            results = list(executor.map(fetch_related_news, titles))\n",
    "        return results\n",
    " \n",
    "    #Fetch related news in parallel\n",
    "    list_years.append(parallel_fetch_news(data_sentiment['Title']))"
   ]
  }
 ],
 "metadata": {
  "kernelspec": {
   "display_name": "Python 3",
   "language": "python",
   "name": "python3"
  },
  "language_info": {
   "codemirror_mode": {
    "name": "ipython",
    "version": 3
   },
   "file_extension": ".py",
   "mimetype": "text/x-python",
   "name": "python",
   "nbconvert_exporter": "python",
   "pygments_lexer": "ipython3",
   "version": "3.10.6"
  }
 },
 "nbformat": 4,
 "nbformat_minor": 2
}
