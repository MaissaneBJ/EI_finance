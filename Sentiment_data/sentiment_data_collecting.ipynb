{
 "cells": [
  {
   "cell_type": "markdown",
   "metadata": {},
   "source": [
    "### This notebook is for sentiment data collecting using gnews"
   ]
  },
  {
   "cell_type": "code",
   "execution_count": 40,
   "metadata": {},
   "outputs": [],
   "source": [
    "from gnews import GNews\n",
    "import pandas as pd\n",
    "import nltk\n",
    "from rake_nltk import Rake\n",
    "from tqdm import tqdm"
   ]
  },
  {
   "cell_type": "code",
   "execution_count": 11,
   "metadata": {},
   "outputs": [
    {
     "name": "stderr",
     "output_type": "stream",
     "text": [
      "[nltk_data] Downloading package stopwords to\n",
      "[nltk_data]     /Users/maissenbenjemaa/nltk_data...\n",
      "[nltk_data]   Package stopwords is already up-to-date!\n"
     ]
    },
    {
     "data": {
      "text/plain": [
       "True"
      ]
     },
     "execution_count": 11,
     "metadata": {},
     "output_type": "execute_result"
    }
   ],
   "source": [
    "nltk.download('stopwords')"
   ]
  },
  {
   "cell_type": "code",
   "execution_count": 4,
   "metadata": {},
   "outputs": [],
   "source": [
    "data_sentiment = pd.read_csv('sentiment_gpt4_only.csv')"
   ]
  },
  {
   "cell_type": "code",
   "execution_count": 13,
   "metadata": {},
   "outputs": [],
   "source": [
    "#extracting key words\n",
    "def extract_keywords(sentence):\n",
    "    rake_nltk_var = Rake()\n",
    "    rake_nltk_var.extract_keywords_from_text(sentence)\n",
    "    keyword_extracted = rake_nltk_var.get_ranked_phrases()\n",
    "    return keyword_extracted"
   ]
  },
  {
   "cell_type": "code",
   "execution_count": 15,
   "metadata": {},
   "outputs": [],
   "source": [
    "data_sentiment['headline'] = data_sentiment['Title'].apply(extract_keywords)"
   ]
  },
  {
   "cell_type": "code",
   "execution_count": 16,
   "metadata": {},
   "outputs": [
    {
     "data": {
      "text/html": [
       "<div>\n",
       "<style scoped>\n",
       "    .dataframe tbody tr th:only-of-type {\n",
       "        vertical-align: middle;\n",
       "    }\n",
       "\n",
       "    .dataframe tbody tr th {\n",
       "        vertical-align: top;\n",
       "    }\n",
       "\n",
       "    .dataframe thead th {\n",
       "        text-align: right;\n",
       "    }\n",
       "</style>\n",
       "<table border=\"1\" class=\"dataframe\">\n",
       "  <thead>\n",
       "    <tr style=\"text-align: right;\">\n",
       "      <th></th>\n",
       "      <th>Date</th>\n",
       "      <th>Title</th>\n",
       "      <th>Sentiment</th>\n",
       "      <th>headline</th>\n",
       "    </tr>\n",
       "  </thead>\n",
       "  <tbody>\n",
       "    <tr>\n",
       "      <th>0</th>\n",
       "      <td>2010-01-04 00:00:00</td>\n",
       "      <td>Global Stocks and Commodities Rally on First T...</td>\n",
       "      <td>positive</td>\n",
       "      <td>[first trading day, global stocks, commodities...</td>\n",
       "    </tr>\n",
       "    <tr>\n",
       "      <th>1</th>\n",
       "      <td>2010-01-04 00:00:00</td>\n",
       "      <td>Dollar Slumps Amid Worldwide Manufacturing Imp...</td>\n",
       "      <td>negative</td>\n",
       "      <td>[dollar slumps amid worldwide manufacturing im...</td>\n",
       "    </tr>\n",
       "    <tr>\n",
       "      <th>2</th>\n",
       "      <td>2010-01-04 00:00:00</td>\n",
       "      <td>Oil Prices Surge Above $81 a Barrel Due to U.S...</td>\n",
       "      <td>negative</td>\n",
       "      <td>[oil prices surge, cold weather, barrel due, u...</td>\n",
       "    </tr>\n",
       "    <tr>\n",
       "      <th>3</th>\n",
       "      <td>2010-01-04 00:00:00</td>\n",
       "      <td>S&amp;P 500 Sees 1.6 Percent Increase, Hits 15-Mon...</td>\n",
       "      <td>positive</td>\n",
       "      <td>[p 500 sees 1, 6 percent increase, month high,...</td>\n",
       "    </tr>\n",
       "    <tr>\n",
       "      <th>4</th>\n",
       "      <td>2010-01-04 00:00:00</td>\n",
       "      <td>Argentina's Merval Index Reaches Record High, ...</td>\n",
       "      <td>positive</td>\n",
       "      <td>[merval index reaches record high, bovespa sur...</td>\n",
       "    </tr>\n",
       "    <tr>\n",
       "      <th>...</th>\n",
       "      <td>...</td>\n",
       "      <td>...</td>\n",
       "      <td>...</td>\n",
       "      <td>...</td>\n",
       "    </tr>\n",
       "    <tr>\n",
       "      <th>8134</th>\n",
       "      <td>2011-12-30 00:00:00</td>\n",
       "      <td>Earnings Season Begins with JPMorgan and Citi...</td>\n",
       "      <td>indecisive</td>\n",
       "      <td>[earnings season begins, citigroup results exp...</td>\n",
       "    </tr>\n",
       "    <tr>\n",
       "      <th>8135</th>\n",
       "      <td>2011-12-30 00:00:00</td>\n",
       "      <td>June Inflation Report Expected to Show Price ...</td>\n",
       "      <td>indecisive</td>\n",
       "      <td>[june inflation report expected, show price gr...</td>\n",
       "    </tr>\n",
       "    <tr>\n",
       "      <th>8136</th>\n",
       "      <td>2011-12-30 00:00:00</td>\n",
       "      <td>Chinese Trade Data Expected to Show Slower Ex...</td>\n",
       "      <td>negative</td>\n",
       "      <td>[show slower export growth, chinese trade data...</td>\n",
       "    </tr>\n",
       "    <tr>\n",
       "      <th>8137</th>\n",
       "      <td>2011-12-30 00:00:00</td>\n",
       "      <td>S&amp;P 500 Exchange-Traded Fund Slips 0.5 Percen...</td>\n",
       "      <td>negative</td>\n",
       "      <td>[traded fund slips 0, p 500 exchange, hours tr...</td>\n",
       "    </tr>\n",
       "    <tr>\n",
       "      <th>8138</th>\n",
       "      <td>2011-12-30 00:00:00</td>\n",
       "      <td>Bloomberg Dollar Spot Index Drops 0.1 Percent</td>\n",
       "      <td>indecisive</td>\n",
       "      <td>[bloomberg dollar spot index drops 0, 1 percent]</td>\n",
       "    </tr>\n",
       "  </tbody>\n",
       "</table>\n",
       "<p>8139 rows × 4 columns</p>\n",
       "</div>"
      ],
      "text/plain": [
       "                     Date                                              Title  \\\n",
       "0     2010-01-04 00:00:00  Global Stocks and Commodities Rally on First T...   \n",
       "1     2010-01-04 00:00:00  Dollar Slumps Amid Worldwide Manufacturing Imp...   \n",
       "2     2010-01-04 00:00:00  Oil Prices Surge Above $81 a Barrel Due to U.S...   \n",
       "3     2010-01-04 00:00:00  S&P 500 Sees 1.6 Percent Increase, Hits 15-Mon...   \n",
       "4     2010-01-04 00:00:00  Argentina's Merval Index Reaches Record High, ...   \n",
       "...                   ...                                                ...   \n",
       "8134  2011-12-30 00:00:00   Earnings Season Begins with JPMorgan and Citi...   \n",
       "8135  2011-12-30 00:00:00   June Inflation Report Expected to Show Price ...   \n",
       "8136  2011-12-30 00:00:00   Chinese Trade Data Expected to Show Slower Ex...   \n",
       "8137  2011-12-30 00:00:00   S&P 500 Exchange-Traded Fund Slips 0.5 Percen...   \n",
       "8138  2011-12-30 00:00:00      Bloomberg Dollar Spot Index Drops 0.1 Percent   \n",
       "\n",
       "       Sentiment                                           headline  \n",
       "0       positive  [first trading day, global stocks, commodities...  \n",
       "1       negative  [dollar slumps amid worldwide manufacturing im...  \n",
       "2       negative  [oil prices surge, cold weather, barrel due, u...  \n",
       "3       positive  [p 500 sees 1, 6 percent increase, month high,...  \n",
       "4       positive  [merval index reaches record high, bovespa sur...  \n",
       "...          ...                                                ...  \n",
       "8134  indecisive  [earnings season begins, citigroup results exp...  \n",
       "8135  indecisive  [june inflation report expected, show price gr...  \n",
       "8136    negative  [show slower export growth, chinese trade data...  \n",
       "8137    negative  [traded fund slips 0, p 500 exchange, hours tr...  \n",
       "8138  indecisive   [bloomberg dollar spot index drops 0, 1 percent]  \n",
       "\n",
       "[8139 rows x 4 columns]"
      ]
     },
     "execution_count": 16,
     "metadata": {},
     "output_type": "execute_result"
    }
   ],
   "source": [
    "news = pd.DataFrame"
   ]
  },
  {
   "cell_type": "code",
   "execution_count": 35,
   "metadata": {},
   "outputs": [],
   "source": [
    "google_news = GNews()\n",
    "google_news.start_date = (2010, 1, 4) \n",
    "google_news.end_date = (2011, 12, 30)"
   ]
  },
  {
   "cell_type": "code",
   "execution_count": 38,
   "metadata": {},
   "outputs": [],
   "source": [
    "dict = {}"
   ]
  },
  {
   "cell_type": "code",
   "execution_count": 44,
   "metadata": {},
   "outputs": [
    {
     "name": "stderr",
     "output_type": "stream",
     "text": [
      "100%|██████████| 8139/8139 [4:14:30<00:00,  1.88s/it]   \n"
     ]
    }
   ],
   "source": [
    "#Searching for new titles using the titles in the dataset\n",
    "for title in tqdm(data_sentiment['Title']):\n",
    "    res = google_news.get_news(title)\n",
    "    for resultat in res[:1]:\n",
    "        pub_date = pd.to_datetime(resultat['published date'])\n",
    "        dict [pub_date]= resultat['title']"
   ]
  },
  {
   "cell_type": "code",
   "execution_count": 45,
   "metadata": {},
   "outputs": [
    {
     "data": {
      "text/html": [
       "<div>\n",
       "<style scoped>\n",
       "    .dataframe tbody tr th:only-of-type {\n",
       "        vertical-align: middle;\n",
       "    }\n",
       "\n",
       "    .dataframe tbody tr th {\n",
       "        vertical-align: top;\n",
       "    }\n",
       "\n",
       "    .dataframe thead th {\n",
       "        text-align: right;\n",
       "    }\n",
       "</style>\n",
       "<table border=\"1\" class=\"dataframe\">\n",
       "  <thead>\n",
       "    <tr style=\"text-align: right;\">\n",
       "      <th></th>\n",
       "      <th>date</th>\n",
       "      <th>title</th>\n",
       "    </tr>\n",
       "  </thead>\n",
       "  <tbody>\n",
       "    <tr>\n",
       "      <th>0</th>\n",
       "      <td>2010-02-04 08:00:00</td>\n",
       "      <td>CNNMoney.com Market Report - Feb. 4, 2010 - CNN</td>\n",
       "    </tr>\n",
       "    <tr>\n",
       "      <th>1</th>\n",
       "      <td>2011-08-08 07:00:00</td>\n",
       "      <td>Debt crisis sends financial markets into turmo...</td>\n",
       "    </tr>\n",
       "    <tr>\n",
       "      <th>2</th>\n",
       "      <td>2011-10-04 07:00:00</td>\n",
       "      <td>Market Report - Oct. 4, 2011 - CNNMoney - CNN</td>\n",
       "    </tr>\n",
       "    <tr>\n",
       "      <th>3</th>\n",
       "      <td>2024-06-04 20:47:00</td>\n",
       "      <td>Hunter Biden's wife lashes out at former Trump...</td>\n",
       "    </tr>\n",
       "    <tr>\n",
       "      <th>4</th>\n",
       "      <td>2024-06-04 17:37:30</td>\n",
       "      <td>Hunter Biden's wife lashes out at ex-Trump adv...</td>\n",
       "    </tr>\n",
       "    <tr>\n",
       "      <th>...</th>\n",
       "      <td>...</td>\n",
       "      <td>...</td>\n",
       "    </tr>\n",
       "    <tr>\n",
       "      <th>895</th>\n",
       "      <td>2024-06-03 07:29:00</td>\n",
       "      <td>India stocks hit record highs to lead gains in...</td>\n",
       "    </tr>\n",
       "    <tr>\n",
       "      <th>896</th>\n",
       "      <td>2024-05-31 04:16:40</td>\n",
       "      <td>US Stocks Dip As Tech Shares Lead Decline - Fi...</td>\n",
       "    </tr>\n",
       "    <tr>\n",
       "      <th>897</th>\n",
       "      <td>2024-02-15 08:00:00</td>\n",
       "      <td>Stock Market News: Dow Jumps 348 Points, Erasi...</td>\n",
       "    </tr>\n",
       "    <tr>\n",
       "      <th>898</th>\n",
       "      <td>2024-06-05 20:11:52</td>\n",
       "      <td>Stock market today: S&amp;P 500, Nasdaq hit record...</td>\n",
       "    </tr>\n",
       "    <tr>\n",
       "      <th>899</th>\n",
       "      <td>2010-01-15 08:00:00</td>\n",
       "      <td>JPMorgan Chase Earns $11.7 Billion in Year - T...</td>\n",
       "    </tr>\n",
       "  </tbody>\n",
       "</table>\n",
       "<p>900 rows × 2 columns</p>\n",
       "</div>"
      ],
      "text/plain": [
       "                    date                                              title\n",
       "0    2010-02-04 08:00:00    CNNMoney.com Market Report - Feb. 4, 2010 - CNN\n",
       "1    2011-08-08 07:00:00  Debt crisis sends financial markets into turmo...\n",
       "2    2011-10-04 07:00:00      Market Report - Oct. 4, 2011 - CNNMoney - CNN\n",
       "3    2024-06-04 20:47:00  Hunter Biden's wife lashes out at former Trump...\n",
       "4    2024-06-04 17:37:30  Hunter Biden's wife lashes out at ex-Trump adv...\n",
       "..                   ...                                                ...\n",
       "895  2024-06-03 07:29:00  India stocks hit record highs to lead gains in...\n",
       "896  2024-05-31 04:16:40  US Stocks Dip As Tech Shares Lead Decline - Fi...\n",
       "897  2024-02-15 08:00:00  Stock Market News: Dow Jumps 348 Points, Erasi...\n",
       "898  2024-06-05 20:11:52  Stock market today: S&P 500, Nasdaq hit record...\n",
       "899  2010-01-15 08:00:00  JPMorgan Chase Earns $11.7 Billion in Year - T...\n",
       "\n",
       "[900 rows x 2 columns]"
      ]
     },
     "execution_count": 45,
     "metadata": {},
     "output_type": "execute_result"
    }
   ],
   "source": [
    "#generating new dataframe\n",
    "dates = list(dict.keys())\n",
    "titles = list(dict.values())\n",
    "df = pd.DataFrame({'date': dates, 'title': titles}) \n",
    "df"
   ]
  },
  {
   "cell_type": "code",
   "execution_count": 49,
   "metadata": {},
   "outputs": [],
   "source": [
    "df['date'] = pd.to_datetime(df['date'],utc=True)"
   ]
  },
  {
   "cell_type": "code",
   "execution_count": 53,
   "metadata": {},
   "outputs": [],
   "source": [
    "indexes_to_drop = df[df['date'].dt.year >= 2012].index"
   ]
  },
  {
   "cell_type": "code",
   "execution_count": 54,
   "metadata": {},
   "outputs": [],
   "source": [
    "df.drop(indexes_to_drop, inplace=True)"
   ]
  },
  {
   "cell_type": "code",
   "execution_count": null,
   "metadata": {},
   "outputs": [],
   "source": [
    "#saving the dataframe\n",
    "df.to_csv('sent_data_base.csv',index=False)"
   ]
  }
 ],
 "metadata": {
  "kernelspec": {
   "display_name": "Python 3",
   "language": "python",
   "name": "python3"
  },
  "language_info": {
   "codemirror_mode": {
    "name": "ipython",
    "version": 3
   },
   "file_extension": ".py",
   "mimetype": "text/x-python",
   "name": "python",
   "nbconvert_exporter": "python",
   "pygments_lexer": "ipython3",
   "version": "3.10.6"
  }
 },
 "nbformat": 4,
 "nbformat_minor": 2
}
